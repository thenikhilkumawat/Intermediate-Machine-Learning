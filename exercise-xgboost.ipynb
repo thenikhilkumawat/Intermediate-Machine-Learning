{
 "cells": [
  {
   "cell_type": "markdown",
   "id": "691d2357",
   "metadata": {
    "papermill": {
     "duration": 0.004973,
     "end_time": "2023-06-29T11:05:04.366147",
     "exception": false,
     "start_time": "2023-06-29T11:05:04.361174",
     "status": "completed"
    },
    "tags": []
   },
   "source": [
    "**This notebook is an exercise in the [Intermediate Machine Learning](https://www.kaggle.com/learn/intermediate-machine-learning) course.  You can reference the tutorial at [this link](https://www.kaggle.com/alexisbcook/xgboost).**\n",
    "\n",
    "---\n"
   ]
  },
  {
   "cell_type": "markdown",
   "id": "f45f06f0",
   "metadata": {
    "papermill": {
     "duration": 0.003952,
     "end_time": "2023-06-29T11:05:04.374539",
     "exception": false,
     "start_time": "2023-06-29T11:05:04.370587",
     "status": "completed"
    },
    "tags": []
   },
   "source": [
    "In this exercise, you will use your new knowledge to train a model with **gradient boosting**.\n",
    "\n",
    "# Setup\n",
    "\n",
    "The questions below will give you feedback on your work. Run the following cell to set up the feedback system."
   ]
  },
  {
   "cell_type": "code",
   "execution_count": 1,
   "id": "ed3d9030",
   "metadata": {
    "execution": {
     "iopub.execute_input": "2023-06-29T11:05:04.384706Z",
     "iopub.status.busy": "2023-06-29T11:05:04.384366Z",
     "iopub.status.idle": "2023-06-29T11:05:06.697603Z",
     "shell.execute_reply": "2023-06-29T11:05:06.696753Z"
    },
    "papermill": {
     "duration": 2.321323,
     "end_time": "2023-06-29T11:05:06.700104",
     "exception": false,
     "start_time": "2023-06-29T11:05:04.378781",
     "status": "completed"
    },
    "tags": []
   },
   "outputs": [
    {
     "name": "stdout",
     "output_type": "stream",
     "text": [
      "Setup Complete\n"
     ]
    }
   ],
   "source": [
    "# Set up code checking\n",
    "import os\n",
    "if not os.path.exists(\"../input/train.csv\"):\n",
    "    os.symlink(\"../input/home-data-for-ml-course/train.csv\", \"../input/train.csv\")  \n",
    "    os.symlink(\"../input/home-data-for-ml-course/test.csv\", \"../input/test.csv\") \n",
    "from learntools.core import binder\n",
    "binder.bind(globals())\n",
    "from learntools.ml_intermediate.ex6 import *\n",
    "print(\"Setup Complete\")"
   ]
  },
  {
   "cell_type": "markdown",
   "id": "c28d1d39",
   "metadata": {
    "papermill": {
     "duration": 0.004395,
     "end_time": "2023-06-29T11:05:06.709467",
     "exception": false,
     "start_time": "2023-06-29T11:05:06.705072",
     "status": "completed"
    },
    "tags": []
   },
   "source": [
    "You will work with the [Housing Prices Competition for Kaggle Learn Users](https://www.kaggle.com/c/home-data-for-ml-course) dataset from the previous exercise. \n",
    "\n",
    "![Ames Housing dataset image](https://storage.googleapis.com/kaggle-media/learn/images/lTJVG4e.png)\n",
    "\n",
    "Run the next code cell without changes to load the training and validation sets in `X_train`, `X_valid`, `y_train`, and `y_valid`.  The test set is loaded in `X_test`."
   ]
  },
  {
   "cell_type": "code",
   "execution_count": 2,
   "id": "f0180b74",
   "metadata": {
    "execution": {
     "iopub.execute_input": "2023-06-29T11:05:06.720050Z",
     "iopub.status.busy": "2023-06-29T11:05:06.719692Z",
     "iopub.status.idle": "2023-06-29T11:05:06.857877Z",
     "shell.execute_reply": "2023-06-29T11:05:06.856549Z"
    },
    "papermill": {
     "duration": 0.146279,
     "end_time": "2023-06-29T11:05:06.860113",
     "exception": false,
     "start_time": "2023-06-29T11:05:06.713834",
     "status": "completed"
    },
    "tags": []
   },
   "outputs": [],
   "source": [
    "import pandas as pd\n",
    "from sklearn.model_selection import train_test_split\n",
    "\n",
    "# Read the data\n",
    "X = pd.read_csv('../input/train.csv', index_col='Id')\n",
    "X_test_full = pd.read_csv('../input/test.csv', index_col='Id')\n",
    "\n",
    "# Remove rows with missing target, separate target from predictors\n",
    "X.dropna(axis=0, subset=['SalePrice'], inplace=True)\n",
    "y = X.SalePrice              \n",
    "X.drop(['SalePrice'], axis=1, inplace=True)\n",
    "\n",
    "# Break off validation set from training data\n",
    "X_train_full, X_valid_full, y_train, y_valid = train_test_split(X, y, train_size=0.8, test_size=0.2,\n",
    "                                                                random_state=0)\n",
    "\n",
    "# \"Cardinality\" means the number of unique values in a column\n",
    "# Select categorical columns with relatively low cardinality (convenient but arbitrary)\n",
    "low_cardinality_cols = [cname for cname in X_train_full.columns if X_train_full[cname].nunique() < 10 and \n",
    "                        X_train_full[cname].dtype == \"object\"]\n",
    "\n",
    "# Select numeric columns\n",
    "numeric_cols = [cname for cname in X_train_full.columns if X_train_full[cname].dtype in ['int64', 'float64']]\n",
    "\n",
    "# Keep selected columns only\n",
    "my_cols = low_cardinality_cols + numeric_cols\n",
    "X_train = X_train_full[my_cols].copy()\n",
    "X_valid = X_valid_full[my_cols].copy()\n",
    "X_test = X_test_full[my_cols].copy()\n",
    "\n",
    "# One-hot encode the data (to shorten the code, we use pandas)\n",
    "X_train = pd.get_dummies(X_train)\n",
    "X_valid = pd.get_dummies(X_valid)\n",
    "X_test = pd.get_dummies(X_test)\n",
    "X_train, X_valid = X_train.align(X_valid, join='left', axis=1)\n",
    "X_train, X_test = X_train.align(X_test, join='left', axis=1)"
   ]
  },
  {
   "cell_type": "markdown",
   "id": "83a3da60",
   "metadata": {
    "papermill": {
     "duration": 0.005336,
     "end_time": "2023-06-29T11:05:06.869997",
     "exception": false,
     "start_time": "2023-06-29T11:05:06.864661",
     "status": "completed"
    },
    "tags": []
   },
   "source": [
    "# Step 1: Build model\n",
    "\n",
    "### Part A\n",
    "\n",
    "In this step, you'll build and train your first model with gradient boosting.\n",
    "\n",
    "- Begin by setting `my_model_1` to an XGBoost model.  Use the [XGBRegressor](https://xgboost.readthedocs.io/en/latest/python/python_api.html#xgboost.XGBRegressor) class, and set the random seed to 0 (`random_state=0`).  **Leave all other parameters as default.**\n",
    "- Then, fit the model to the training data in `X_train` and `y_train`."
   ]
  },
  {
   "cell_type": "code",
   "execution_count": 3,
   "id": "34ba2209",
   "metadata": {
    "execution": {
     "iopub.execute_input": "2023-06-29T11:05:06.880033Z",
     "iopub.status.busy": "2023-06-29T11:05:06.879675Z",
     "iopub.status.idle": "2023-06-29T11:05:07.515329Z",
     "shell.execute_reply": "2023-06-29T11:05:07.514742Z"
    },
    "papermill": {
     "duration": 0.642665,
     "end_time": "2023-06-29T11:05:07.516827",
     "exception": false,
     "start_time": "2023-06-29T11:05:06.874162",
     "status": "completed"
    },
    "tags": []
   },
   "outputs": [
    {
     "data": {
      "application/javascript": [
       "parent.postMessage({\"jupyterEvent\": \"custom.exercise_interaction\", \"data\": {\"outcomeType\": 1, \"valueTowardsCompletion\": 0.5, \"interactionType\": 1, \"questionType\": 2, \"questionId\": \"1.1_Model1A\", \"learnToolsVersion\": \"0.3.4\", \"failureMessage\": \"\", \"exceptionClass\": \"\", \"trace\": \"\"}}, \"*\")"
      ],
      "text/plain": [
       "<IPython.core.display.Javascript object>"
      ]
     },
     "metadata": {},
     "output_type": "display_data"
    },
    {
     "data": {
      "text/markdown": [
       "<span style=\"color:#33cc33\">Correct</span>"
      ],
      "text/plain": [
       "Correct"
      ]
     },
     "metadata": {},
     "output_type": "display_data"
    }
   ],
   "source": [
    "from xgboost import XGBRegressor\n",
    "\n",
    "# Define the model\n",
    "my_model_1 = XGBRegressor(random_state=0) # Your code here\n",
    "\n",
    "# Fit the model\n",
    "____ # Your code here\n",
    "my_model_1.fit(X_train, y_train)\n",
    "# Check your answer\n",
    "step_1.a.check()"
   ]
  },
  {
   "cell_type": "code",
   "execution_count": 4,
   "id": "25bf95e8",
   "metadata": {
    "execution": {
     "iopub.execute_input": "2023-06-29T11:05:07.527802Z",
     "iopub.status.busy": "2023-06-29T11:05:07.527176Z",
     "iopub.status.idle": "2023-06-29T11:05:07.530877Z",
     "shell.execute_reply": "2023-06-29T11:05:07.529889Z"
    },
    "papermill": {
     "duration": 0.011043,
     "end_time": "2023-06-29T11:05:07.532445",
     "exception": false,
     "start_time": "2023-06-29T11:05:07.521402",
     "status": "completed"
    },
    "tags": []
   },
   "outputs": [],
   "source": [
    "# Lines below will give you a hint or solution code\n",
    "#step_1.a.hint()\n",
    "#step_1.a.solution()"
   ]
  },
  {
   "cell_type": "markdown",
   "id": "a1f4024c",
   "metadata": {
    "papermill": {
     "duration": 0.004525,
     "end_time": "2023-06-29T11:05:07.541450",
     "exception": false,
     "start_time": "2023-06-29T11:05:07.536925",
     "status": "completed"
    },
    "tags": []
   },
   "source": [
    "### Part B\n",
    "\n",
    "Set `predictions_1` to the model's predictions for the validation data.  Recall that the validation features are stored in `X_valid`."
   ]
  },
  {
   "cell_type": "code",
   "execution_count": 5,
   "id": "7460c8fe",
   "metadata": {
    "execution": {
     "iopub.execute_input": "2023-06-29T11:05:07.551866Z",
     "iopub.status.busy": "2023-06-29T11:05:07.551500Z",
     "iopub.status.idle": "2023-06-29T11:05:07.572921Z",
     "shell.execute_reply": "2023-06-29T11:05:07.571902Z"
    },
    "papermill": {
     "duration": 0.029199,
     "end_time": "2023-06-29T11:05:07.575002",
     "exception": false,
     "start_time": "2023-06-29T11:05:07.545803",
     "status": "completed"
    },
    "tags": []
   },
   "outputs": [
    {
     "data": {
      "application/javascript": [
       "parent.postMessage({\"jupyterEvent\": \"custom.exercise_interaction\", \"data\": {\"outcomeType\": 1, \"valueTowardsCompletion\": 0.5, \"interactionType\": 1, \"questionType\": 2, \"questionId\": \"1.2_Model1B\", \"learnToolsVersion\": \"0.3.4\", \"failureMessage\": \"\", \"exceptionClass\": \"\", \"trace\": \"\"}}, \"*\")"
      ],
      "text/plain": [
       "<IPython.core.display.Javascript object>"
      ]
     },
     "metadata": {},
     "output_type": "display_data"
    },
    {
     "data": {
      "text/markdown": [
       "<span style=\"color:#33cc33\">Correct</span>"
      ],
      "text/plain": [
       "Correct"
      ]
     },
     "metadata": {},
     "output_type": "display_data"
    }
   ],
   "source": [
    "from sklearn.metrics import mean_absolute_error\n",
    "\n",
    "# Get predictions\n",
    "predictions_1 = my_model_1.predict(X_valid) # Your code here\n",
    "\n",
    "# Check your answer\n",
    "step_1.b.check()"
   ]
  },
  {
   "cell_type": "code",
   "execution_count": 6,
   "id": "2376c32f",
   "metadata": {
    "execution": {
     "iopub.execute_input": "2023-06-29T11:05:07.586661Z",
     "iopub.status.busy": "2023-06-29T11:05:07.585543Z",
     "iopub.status.idle": "2023-06-29T11:05:07.590171Z",
     "shell.execute_reply": "2023-06-29T11:05:07.589396Z"
    },
    "papermill": {
     "duration": 0.01213,
     "end_time": "2023-06-29T11:05:07.592080",
     "exception": false,
     "start_time": "2023-06-29T11:05:07.579950",
     "status": "completed"
    },
    "tags": []
   },
   "outputs": [],
   "source": [
    "# Lines below will give you a hint or solution code\n",
    "#step_1.b.hint()\n",
    "#step_1.b.solution()"
   ]
  },
  {
   "cell_type": "markdown",
   "id": "9ceb2bfe",
   "metadata": {
    "papermill": {
     "duration": 0.004421,
     "end_time": "2023-06-29T11:05:07.601148",
     "exception": false,
     "start_time": "2023-06-29T11:05:07.596727",
     "status": "completed"
    },
    "tags": []
   },
   "source": [
    "### Part C\n",
    "\n",
    "Finally, use the `mean_absolute_error()` function to calculate the mean absolute error (MAE) corresponding to the predictions for the validation set.  Recall that the labels for the validation data are stored in `y_valid`."
   ]
  },
  {
   "cell_type": "code",
   "execution_count": 7,
   "id": "ac1bde3b",
   "metadata": {
    "execution": {
     "iopub.execute_input": "2023-06-29T11:05:07.611778Z",
     "iopub.status.busy": "2023-06-29T11:05:07.611445Z",
     "iopub.status.idle": "2023-06-29T11:05:07.621224Z",
     "shell.execute_reply": "2023-06-29T11:05:07.620134Z"
    },
    "papermill": {
     "duration": 0.017146,
     "end_time": "2023-06-29T11:05:07.622891",
     "exception": false,
     "start_time": "2023-06-29T11:05:07.605745",
     "status": "completed"
    },
    "tags": []
   },
   "outputs": [
    {
     "name": "stdout",
     "output_type": "stream",
     "text": [
      "Mean Absolute Error: 17662.736729452055\n"
     ]
    },
    {
     "data": {
      "application/javascript": [
       "parent.postMessage({\"jupyterEvent\": \"custom.exercise_interaction\", \"data\": {\"outcomeType\": 1, \"valueTowardsCompletion\": 0.5, \"interactionType\": 1, \"questionType\": 2, \"questionId\": \"1.3_Model1C\", \"learnToolsVersion\": \"0.3.4\", \"failureMessage\": \"\", \"exceptionClass\": \"\", \"trace\": \"\"}}, \"*\")"
      ],
      "text/plain": [
       "<IPython.core.display.Javascript object>"
      ]
     },
     "metadata": {},
     "output_type": "display_data"
    },
    {
     "data": {
      "text/markdown": [
       "<span style=\"color:#33cc33\">Correct</span>"
      ],
      "text/plain": [
       "Correct"
      ]
     },
     "metadata": {},
     "output_type": "display_data"
    }
   ],
   "source": [
    "# Calculate MAE\n",
    "mae_1 = mean_absolute_error(predictions_1, y_valid)\n",
    "print(\"Mean Absolute Error:\" , mae_1) # Your code here\n",
    "\n",
    "# Uncomment to print MAE\n",
    "# print(\"Mean Absolute Error:\" , mae_1)\n",
    "\n",
    "# Check your answer\n",
    "step_1.c.check()"
   ]
  },
  {
   "cell_type": "code",
   "execution_count": 8,
   "id": "54e8dab6",
   "metadata": {
    "execution": {
     "iopub.execute_input": "2023-06-29T11:05:07.634231Z",
     "iopub.status.busy": "2023-06-29T11:05:07.633682Z",
     "iopub.status.idle": "2023-06-29T11:05:07.637032Z",
     "shell.execute_reply": "2023-06-29T11:05:07.636455Z"
    },
    "papermill": {
     "duration": 0.01067,
     "end_time": "2023-06-29T11:05:07.638496",
     "exception": false,
     "start_time": "2023-06-29T11:05:07.627826",
     "status": "completed"
    },
    "tags": []
   },
   "outputs": [],
   "source": [
    "# Lines below will give you a hint or solution code\n",
    "#step_1.c.hint()\n",
    "#step_1.c.solution()"
   ]
  },
  {
   "cell_type": "markdown",
   "id": "93d3272a",
   "metadata": {
    "papermill": {
     "duration": 0.004578,
     "end_time": "2023-06-29T11:05:07.647982",
     "exception": false,
     "start_time": "2023-06-29T11:05:07.643404",
     "status": "completed"
    },
    "tags": []
   },
   "source": [
    "# Step 2: Improve the model\n",
    "\n",
    "Now that you've trained a default model as baseline, it's time to tinker with the parameters, to see if you can get better performance!\n",
    "- Begin by setting `my_model_2` to an XGBoost model, using the [XGBRegressor](https://xgboost.readthedocs.io/en/latest/python/python_api.html#xgboost.XGBRegressor) class.  Use what you learned in the previous tutorial to figure out how to change the default parameters (like `n_estimators` and `learning_rate`) to get better results.\n",
    "- Then, fit the model to the training data in `X_train` and `y_train`.\n",
    "- Set `predictions_2` to the model's predictions for the validation data.  Recall that the validation features are stored in `X_valid`.\n",
    "- Finally, use the `mean_absolute_error()` function to calculate the mean absolute error (MAE) corresponding to the predictions on the validation set.  Recall that the labels for the validation data are stored in `y_valid`.\n",
    "\n",
    "In order for this step to be marked correct, your model in `my_model_2` must attain lower MAE than the model in `my_model_1`. "
   ]
  },
  {
   "cell_type": "code",
   "execution_count": 9,
   "id": "57cb90f4",
   "metadata": {
    "execution": {
     "iopub.execute_input": "2023-06-29T11:05:07.658912Z",
     "iopub.status.busy": "2023-06-29T11:05:07.658608Z",
     "iopub.status.idle": "2023-06-29T11:05:13.685186Z",
     "shell.execute_reply": "2023-06-29T11:05:13.684291Z"
    },
    "papermill": {
     "duration": 6.034173,
     "end_time": "2023-06-29T11:05:13.686842",
     "exception": false,
     "start_time": "2023-06-29T11:05:07.652669",
     "status": "completed"
    },
    "tags": []
   },
   "outputs": [
    {
     "name": "stdout",
     "output_type": "stream",
     "text": [
      "Mean Absolute Error: 16688.691513270547\n"
     ]
    },
    {
     "data": {
      "application/javascript": [
       "parent.postMessage({\"jupyterEvent\": \"custom.exercise_interaction\", \"data\": {\"outcomeType\": 1, \"valueTowardsCompletion\": 0.5, \"interactionType\": 1, \"questionType\": 2, \"questionId\": \"2_Model2\", \"learnToolsVersion\": \"0.3.4\", \"failureMessage\": \"\", \"exceptionClass\": \"\", \"trace\": \"\"}}, \"*\")"
      ],
      "text/plain": [
       "<IPython.core.display.Javascript object>"
      ]
     },
     "metadata": {},
     "output_type": "display_data"
    },
    {
     "data": {
      "text/markdown": [
       "<span style=\"color:#33cc33\">Correct</span>"
      ],
      "text/plain": [
       "Correct"
      ]
     },
     "metadata": {},
     "output_type": "display_data"
    }
   ],
   "source": [
    "# Define the model\n",
    "my_model_2 = XGBRegressor(n_estimators=1000, learning_rate=0.05) # Your code here\n",
    "\n",
    "# Fit the model\n",
    "____ # Your code here\n",
    "my_model_2.fit(X_train, y_train)\n",
    "# Get predictions\n",
    "predictions_2 = my_model_2.predict(X_valid) # Your code here\n",
    "\n",
    "# Calculate MAE\n",
    "mae_2 = mean_absolute_error(predictions_2, y_valid)\n",
    "print(\"Mean Absolute Error:\" , mae_2) # Your code here\n",
    "\n",
    "# Uncomment to print MAE\n",
    "# print(\"Mean Absolute Error:\" , mae_2)\n",
    "\n",
    "# Check your answer\n",
    "step_2.check()"
   ]
  },
  {
   "cell_type": "code",
   "execution_count": 10,
   "id": "2c79c2c3",
   "metadata": {
    "execution": {
     "iopub.execute_input": "2023-06-29T11:05:13.700497Z",
     "iopub.status.busy": "2023-06-29T11:05:13.699320Z",
     "iopub.status.idle": "2023-06-29T11:05:13.704017Z",
     "shell.execute_reply": "2023-06-29T11:05:13.703077Z"
    },
    "papermill": {
     "duration": 0.013462,
     "end_time": "2023-06-29T11:05:13.706478",
     "exception": false,
     "start_time": "2023-06-29T11:05:13.693016",
     "status": "completed"
    },
    "tags": []
   },
   "outputs": [],
   "source": [
    "# Lines below will give you a hint or solution code\n",
    "#step_2.hint()\n",
    "#step_2.solution()"
   ]
  },
  {
   "cell_type": "markdown",
   "id": "332eb11a",
   "metadata": {
    "papermill": {
     "duration": 0.004999,
     "end_time": "2023-06-29T11:05:13.717091",
     "exception": false,
     "start_time": "2023-06-29T11:05:13.712092",
     "status": "completed"
    },
    "tags": []
   },
   "source": [
    "# Step 3: Break the model\n",
    "\n",
    "In this step, you will create a model that performs worse than the original model in Step 1.  This will help you to develop your intuition for how to set parameters.  You might even find that you accidentally get better performance, which is ultimately a nice problem to have and a valuable learning experience!\n",
    "- Begin by setting `my_model_3` to an XGBoost model, using the [XGBRegressor](https://xgboost.readthedocs.io/en/latest/python/python_api.html#xgboost.XGBRegressor) class.  Use what you learned in the previous tutorial to figure out how to change the default parameters (like `n_estimators` and `learning_rate`) to design a model to get high MAE.\n",
    "- Then, fit the model to the training data in `X_train` and `y_train`.\n",
    "- Set `predictions_3` to the model's predictions for the validation data.  Recall that the validation features are stored in `X_valid`.\n",
    "- Finally, use the `mean_absolute_error()` function to calculate the mean absolute error (MAE) corresponding to the predictions on the validation set.  Recall that the labels for the validation data are stored in `y_valid`.\n",
    "\n",
    "In order for this step to be marked correct, your model in `my_model_3` must attain higher MAE than the model in `my_model_1`. "
   ]
  },
  {
   "cell_type": "code",
   "execution_count": 11,
   "id": "37f28f3e",
   "metadata": {
    "execution": {
     "iopub.execute_input": "2023-06-29T11:05:13.728864Z",
     "iopub.status.busy": "2023-06-29T11:05:13.728552Z",
     "iopub.status.idle": "2023-06-29T11:05:13.772203Z",
     "shell.execute_reply": "2023-06-29T11:05:13.771177Z"
    },
    "papermill": {
     "duration": 0.052336,
     "end_time": "2023-06-29T11:05:13.774532",
     "exception": false,
     "start_time": "2023-06-29T11:05:13.722196",
     "status": "completed"
    },
    "tags": []
   },
   "outputs": [
    {
     "name": "stdout",
     "output_type": "stream",
     "text": [
      "Mean Absolute Error: 127895.0828807256\n"
     ]
    },
    {
     "data": {
      "application/javascript": [
       "parent.postMessage({\"jupyterEvent\": \"custom.exercise_interaction\", \"data\": {\"outcomeType\": 1, \"valueTowardsCompletion\": 0.5, \"interactionType\": 1, \"questionType\": 2, \"questionId\": \"3_Model3\", \"learnToolsVersion\": \"0.3.4\", \"failureMessage\": \"\", \"exceptionClass\": \"\", \"trace\": \"\"}}, \"*\")"
      ],
      "text/plain": [
       "<IPython.core.display.Javascript object>"
      ]
     },
     "metadata": {},
     "output_type": "display_data"
    },
    {
     "data": {
      "text/markdown": [
       "<span style=\"color:#33cc33\">Correct</span>"
      ],
      "text/plain": [
       "Correct"
      ]
     },
     "metadata": {},
     "output_type": "display_data"
    }
   ],
   "source": [
    "# Define the model\n",
    "my_model_3 = XGBRegressor(n_estimators=1)\n",
    "\n",
    "# Fit the model\n",
    "____ # Your code here\n",
    "my_model_3.fit(X_train, y_train)\n",
    "\n",
    "# Get predictions\n",
    "predictions_3 = my_model_3.predict(X_valid)\n",
    "\n",
    "# Calculate MAE\n",
    "mae_3 = mean_absolute_error(predictions_3, y_valid)\n",
    "print(\"Mean Absolute Error:\" , mae_3)\n",
    "\n",
    "# Uncomment to print MAE\n",
    "# print(\"Mean Absolute Error:\" , mae_3)\n",
    "\n",
    "# Check your answer\n",
    "step_3.check()"
   ]
  },
  {
   "cell_type": "code",
   "execution_count": 12,
   "id": "aef40f7b",
   "metadata": {
    "execution": {
     "iopub.execute_input": "2023-06-29T11:05:13.786890Z",
     "iopub.status.busy": "2023-06-29T11:05:13.786589Z",
     "iopub.status.idle": "2023-06-29T11:05:13.793871Z",
     "shell.execute_reply": "2023-06-29T11:05:13.792905Z"
    },
    "papermill": {
     "duration": 0.015542,
     "end_time": "2023-06-29T11:05:13.795725",
     "exception": false,
     "start_time": "2023-06-29T11:05:13.780183",
     "status": "completed"
    },
    "tags": []
   },
   "outputs": [
    {
     "data": {
      "application/javascript": [
       "parent.postMessage({\"jupyterEvent\": \"custom.exercise_interaction\", \"data\": {\"interactionType\": 3, \"questionType\": 2, \"questionId\": \"3_Model3\", \"learnToolsVersion\": \"0.3.4\", \"valueTowardsCompletion\": 0.0, \"failureMessage\": \"\", \"exceptionClass\": \"\", \"trace\": \"\", \"outcomeType\": 4}}, \"*\")"
      ],
      "text/plain": [
       "<IPython.core.display.Javascript object>"
      ]
     },
     "metadata": {},
     "output_type": "display_data"
    },
    {
     "data": {
      "text/markdown": [
       "<span style=\"color:#33cc99\">Solution:</span> \n",
       "```python\n",
       "# Define the model\n",
       "my_model_3 = XGBRegressor(n_estimators=1)\n",
       "\n",
       "# Fit the model\n",
       "my_model_3.fit(X_train, y_train)\n",
       "\n",
       "# Get predictions\n",
       "predictions_3 = my_model_3.predict(X_valid)\n",
       "\n",
       "# Calculate MAE\n",
       "mae_3 = mean_absolute_error(predictions_3, y_valid)\n",
       "print(\"Mean Absolute Error:\" , mae_3)\n",
       "\n",
       "```"
      ],
      "text/plain": [
       "Solution: \n",
       "```python\n",
       "# Define the model\n",
       "my_model_3 = XGBRegressor(n_estimators=1)\n",
       "\n",
       "# Fit the model\n",
       "my_model_3.fit(X_train, y_train)\n",
       "\n",
       "# Get predictions\n",
       "predictions_3 = my_model_3.predict(X_valid)\n",
       "\n",
       "# Calculate MAE\n",
       "mae_3 = mean_absolute_error(predictions_3, y_valid)\n",
       "print(\"Mean Absolute Error:\" , mae_3)\n",
       "\n",
       "```"
      ]
     },
     "metadata": {},
     "output_type": "display_data"
    }
   ],
   "source": [
    "# Lines below will give you a hint or solution code\n",
    "#step_3.hint()\n",
    "step_3.solution()"
   ]
  },
  {
   "cell_type": "markdown",
   "id": "827b967d",
   "metadata": {
    "papermill": {
     "duration": 0.005476,
     "end_time": "2023-06-29T11:05:13.807006",
     "exception": false,
     "start_time": "2023-06-29T11:05:13.801530",
     "status": "completed"
    },
    "tags": []
   },
   "source": [
    "# Keep going\n",
    "\n",
    "Continue to learn about **[data leakage](https://www.kaggle.com/alexisbcook/data-leakage)**.  This is an important issue for a data scientist to understand, and it has the potential to ruin your models in subtle and dangerous ways!"
   ]
  },
  {
   "cell_type": "markdown",
   "id": "ac61d48d",
   "metadata": {
    "papermill": {
     "duration": 0.005357,
     "end_time": "2023-06-29T11:05:13.817890",
     "exception": false,
     "start_time": "2023-06-29T11:05:13.812533",
     "status": "completed"
    },
    "tags": []
   },
   "source": [
    "---\n",
    "\n",
    "\n",
    "\n",
    "\n",
    "*Have questions or comments? Visit the [course discussion forum](https://www.kaggle.com/learn/intermediate-machine-learning/discussion) to chat with other learners.*"
   ]
  }
 ],
 "metadata": {
  "kernelspec": {
   "display_name": "Python 3",
   "language": "python",
   "name": "python3"
  },
  "language_info": {
   "codemirror_mode": {
    "name": "ipython",
    "version": 3
   },
   "file_extension": ".py",
   "mimetype": "text/x-python",
   "name": "python",
   "nbconvert_exporter": "python",
   "pygments_lexer": "ipython3",
   "version": "3.10.10"
  },
  "papermill": {
   "default_parameters": {},
   "duration": 20.420821,
   "end_time": "2023-06-29T11:05:14.745470",
   "environment_variables": {},
   "exception": null,
   "input_path": "__notebook__.ipynb",
   "output_path": "__notebook__.ipynb",
   "parameters": {},
   "start_time": "2023-06-29T11:04:54.324649",
   "version": "2.4.0"
  }
 },
 "nbformat": 4,
 "nbformat_minor": 5
}
