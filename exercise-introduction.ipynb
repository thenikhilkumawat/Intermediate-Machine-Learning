{
 "cells": [
  {
   "cell_type": "markdown",
   "id": "84f16d6b",
   "metadata": {
    "papermill": {
     "duration": 0.007409,
     "end_time": "2023-06-28T10:28:04.476023",
     "exception": false,
     "start_time": "2023-06-28T10:28:04.468614",
     "status": "completed"
    },
    "tags": []
   },
   "source": [
    "**This notebook is an exercise in the [Intermediate Machine Learning](https://www.kaggle.com/learn/intermediate-machine-learning) course.  You can reference the tutorial at [this link](https://www.kaggle.com/alexisbcook/introduction).**\n",
    "\n",
    "---\n"
   ]
  },
  {
   "cell_type": "markdown",
   "id": "f0750403",
   "metadata": {
    "papermill": {
     "duration": 0.007242,
     "end_time": "2023-06-28T10:28:04.490340",
     "exception": false,
     "start_time": "2023-06-28T10:28:04.483098",
     "status": "completed"
    },
    "tags": []
   },
   "source": [
    "As a warm-up, you'll review some machine learning fundamentals and submit your initial results to a Kaggle competition.\n",
    "\n",
    "# Setup\n",
    "\n",
    "The questions below will give you feedback on your work. Run the following cell to set up the feedback system."
   ]
  },
  {
   "cell_type": "code",
   "execution_count": 1,
   "id": "39a96894",
   "metadata": {
    "execution": {
     "iopub.execute_input": "2023-06-28T10:28:04.506732Z",
     "iopub.status.busy": "2023-06-28T10:28:04.505477Z",
     "iopub.status.idle": "2023-06-28T10:28:06.734464Z",
     "shell.execute_reply": "2023-06-28T10:28:06.732909Z"
    },
    "papermill": {
     "duration": 2.240473,
     "end_time": "2023-06-28T10:28:06.737728",
     "exception": false,
     "start_time": "2023-06-28T10:28:04.497255",
     "status": "completed"
    },
    "tags": []
   },
   "outputs": [
    {
     "name": "stdout",
     "output_type": "stream",
     "text": [
      "Setup Complete\n"
     ]
    }
   ],
   "source": [
    "# Set up code checking\n",
    "import os\n",
    "if not os.path.exists(\"../input/train.csv\"):\n",
    "    os.symlink(\"../input/home-data-for-ml-course/train.csv\", \"../input/train.csv\")  \n",
    "    os.symlink(\"../input/home-data-for-ml-course/test.csv\", \"../input/test.csv\")  \n",
    "from learntools.core import binder\n",
    "binder.bind(globals())\n",
    "from learntools.ml_intermediate.ex1 import *\n",
    "print(\"Setup Complete\")"
   ]
  },
  {
   "cell_type": "markdown",
   "id": "07a83d0b",
   "metadata": {
    "papermill": {
     "duration": 0.006557,
     "end_time": "2023-06-28T10:28:06.751206",
     "exception": false,
     "start_time": "2023-06-28T10:28:06.744649",
     "status": "completed"
    },
    "tags": []
   },
   "source": [
    "You will work with data from the [Housing Prices Competition for Kaggle Learn Users](https://www.kaggle.com/c/home-data-for-ml-course) to predict home prices in Iowa using 79 explanatory variables describing (almost) every aspect of the homes.  \n",
    "\n",
    "![Ames Housing dataset image](https://storage.googleapis.com/kaggle-media/learn/images/lTJVG4e.png)\n",
    "\n",
    "Run the next code cell without changes to load the training and validation features in `X_train` and `X_valid`, along with the prediction targets in `y_train` and `y_valid`.  The test features are loaded in `X_test`.  (_If you need to review **features** and **prediction targets**, please check out [this short tutorial](https://www.kaggle.com/dansbecker/your-first-machine-learning-model).  To read about model **validation**, look [here](https://www.kaggle.com/dansbecker/model-validation).  Alternatively, if you'd prefer to look through a full course to review all of these topics, start [here](https://www.kaggle.com/learn/machine-learning).)_"
   ]
  },
  {
   "cell_type": "code",
   "execution_count": 2,
   "id": "e608726c",
   "metadata": {
    "execution": {
     "iopub.execute_input": "2023-06-28T10:28:06.767487Z",
     "iopub.status.busy": "2023-06-28T10:28:06.767072Z",
     "iopub.status.idle": "2023-06-28T10:28:06.896663Z",
     "shell.execute_reply": "2023-06-28T10:28:06.895099Z"
    },
    "papermill": {
     "duration": 0.141979,
     "end_time": "2023-06-28T10:28:06.899919",
     "exception": false,
     "start_time": "2023-06-28T10:28:06.757940",
     "status": "completed"
    },
    "tags": []
   },
   "outputs": [],
   "source": [
    "import pandas as pd\n",
    "from sklearn.model_selection import train_test_split\n",
    "\n",
    "# Read the data\n",
    "X_full = pd.read_csv('../input/train.csv', index_col='Id')\n",
    "X_test_full = pd.read_csv('../input/test.csv', index_col='Id')\n",
    "\n",
    "# Obtain target and predictors\n",
    "y = X_full.SalePrice\n",
    "features = ['LotArea', 'YearBuilt', '1stFlrSF', '2ndFlrSF', 'FullBath', 'BedroomAbvGr', 'TotRmsAbvGrd']\n",
    "X = X_full[features].copy()\n",
    "X_test = X_test_full[features].copy()\n",
    "\n",
    "# Break off validation set from training data\n",
    "X_train, X_valid, y_train, y_valid = train_test_split(X, y, train_size=0.8, test_size=0.2,\n",
    "                                                      random_state=0)"
   ]
  },
  {
   "cell_type": "markdown",
   "id": "62ac4624",
   "metadata": {
    "papermill": {
     "duration": 0.008254,
     "end_time": "2023-06-28T10:28:06.915652",
     "exception": false,
     "start_time": "2023-06-28T10:28:06.907398",
     "status": "completed"
    },
    "tags": []
   },
   "source": [
    "Use the next cell to print the first several rows of the data. It's a nice way to get an overview of the data you will use in your price prediction model."
   ]
  },
  {
   "cell_type": "code",
   "execution_count": 3,
   "id": "0d2924a5",
   "metadata": {
    "execution": {
     "iopub.execute_input": "2023-06-28T10:28:06.930942Z",
     "iopub.status.busy": "2023-06-28T10:28:06.930517Z",
     "iopub.status.idle": "2023-06-28T10:28:06.957246Z",
     "shell.execute_reply": "2023-06-28T10:28:06.956095Z"
    },
    "papermill": {
     "duration": 0.037784,
     "end_time": "2023-06-28T10:28:06.960114",
     "exception": false,
     "start_time": "2023-06-28T10:28:06.922330",
     "status": "completed"
    },
    "tags": []
   },
   "outputs": [
    {
     "data": {
      "text/html": [
       "<div>\n",
       "<style scoped>\n",
       "    .dataframe tbody tr th:only-of-type {\n",
       "        vertical-align: middle;\n",
       "    }\n",
       "\n",
       "    .dataframe tbody tr th {\n",
       "        vertical-align: top;\n",
       "    }\n",
       "\n",
       "    .dataframe thead th {\n",
       "        text-align: right;\n",
       "    }\n",
       "</style>\n",
       "<table border=\"1\" class=\"dataframe\">\n",
       "  <thead>\n",
       "    <tr style=\"text-align: right;\">\n",
       "      <th></th>\n",
       "      <th>LotArea</th>\n",
       "      <th>YearBuilt</th>\n",
       "      <th>1stFlrSF</th>\n",
       "      <th>2ndFlrSF</th>\n",
       "      <th>FullBath</th>\n",
       "      <th>BedroomAbvGr</th>\n",
       "      <th>TotRmsAbvGrd</th>\n",
       "    </tr>\n",
       "    <tr>\n",
       "      <th>Id</th>\n",
       "      <th></th>\n",
       "      <th></th>\n",
       "      <th></th>\n",
       "      <th></th>\n",
       "      <th></th>\n",
       "      <th></th>\n",
       "      <th></th>\n",
       "    </tr>\n",
       "  </thead>\n",
       "  <tbody>\n",
       "    <tr>\n",
       "      <th>619</th>\n",
       "      <td>11694</td>\n",
       "      <td>2007</td>\n",
       "      <td>1828</td>\n",
       "      <td>0</td>\n",
       "      <td>2</td>\n",
       "      <td>3</td>\n",
       "      <td>9</td>\n",
       "    </tr>\n",
       "    <tr>\n",
       "      <th>871</th>\n",
       "      <td>6600</td>\n",
       "      <td>1962</td>\n",
       "      <td>894</td>\n",
       "      <td>0</td>\n",
       "      <td>1</td>\n",
       "      <td>2</td>\n",
       "      <td>5</td>\n",
       "    </tr>\n",
       "    <tr>\n",
       "      <th>93</th>\n",
       "      <td>13360</td>\n",
       "      <td>1921</td>\n",
       "      <td>964</td>\n",
       "      <td>0</td>\n",
       "      <td>1</td>\n",
       "      <td>2</td>\n",
       "      <td>5</td>\n",
       "    </tr>\n",
       "    <tr>\n",
       "      <th>818</th>\n",
       "      <td>13265</td>\n",
       "      <td>2002</td>\n",
       "      <td>1689</td>\n",
       "      <td>0</td>\n",
       "      <td>2</td>\n",
       "      <td>3</td>\n",
       "      <td>7</td>\n",
       "    </tr>\n",
       "    <tr>\n",
       "      <th>303</th>\n",
       "      <td>13704</td>\n",
       "      <td>2001</td>\n",
       "      <td>1541</td>\n",
       "      <td>0</td>\n",
       "      <td>2</td>\n",
       "      <td>3</td>\n",
       "      <td>6</td>\n",
       "    </tr>\n",
       "  </tbody>\n",
       "</table>\n",
       "</div>"
      ],
      "text/plain": [
       "     LotArea  YearBuilt  1stFlrSF  2ndFlrSF  FullBath  BedroomAbvGr  \\\n",
       "Id                                                                    \n",
       "619    11694       2007      1828         0         2             3   \n",
       "871     6600       1962       894         0         1             2   \n",
       "93     13360       1921       964         0         1             2   \n",
       "818    13265       2002      1689         0         2             3   \n",
       "303    13704       2001      1541         0         2             3   \n",
       "\n",
       "     TotRmsAbvGrd  \n",
       "Id                 \n",
       "619             9  \n",
       "871             5  \n",
       "93              5  \n",
       "818             7  \n",
       "303             6  "
      ]
     },
     "execution_count": 3,
     "metadata": {},
     "output_type": "execute_result"
    }
   ],
   "source": [
    "X_train.head()"
   ]
  },
  {
   "cell_type": "markdown",
   "id": "1ae18d8e",
   "metadata": {
    "papermill": {
     "duration": 0.007602,
     "end_time": "2023-06-28T10:28:06.975154",
     "exception": false,
     "start_time": "2023-06-28T10:28:06.967552",
     "status": "completed"
    },
    "tags": []
   },
   "source": [
    "The next code cell defines five different random forest models.  Run this code cell without changes.  (_To review **random forests**, look [here](https://www.kaggle.com/dansbecker/random-forests)._)"
   ]
  },
  {
   "cell_type": "code",
   "execution_count": 4,
   "id": "a9891202",
   "metadata": {
    "execution": {
     "iopub.execute_input": "2023-06-28T10:28:06.991282Z",
     "iopub.status.busy": "2023-06-28T10:28:06.990904Z",
     "iopub.status.idle": "2023-06-28T10:28:06.998792Z",
     "shell.execute_reply": "2023-06-28T10:28:06.997551Z"
    },
    "papermill": {
     "duration": 0.018676,
     "end_time": "2023-06-28T10:28:07.001056",
     "exception": false,
     "start_time": "2023-06-28T10:28:06.982380",
     "status": "completed"
    },
    "tags": []
   },
   "outputs": [],
   "source": [
    "from sklearn.ensemble import RandomForestRegressor\n",
    "\n",
    "# Define the models\n",
    "model_1 = RandomForestRegressor(n_estimators=50, random_state=0)\n",
    "model_2 = RandomForestRegressor(n_estimators=100, random_state=0)\n",
    "model_3 = RandomForestRegressor(n_estimators=100, criterion='absolute_error', random_state=0)\n",
    "model_4 = RandomForestRegressor(n_estimators=200, min_samples_split=20, random_state=0)\n",
    "model_5 = RandomForestRegressor(n_estimators=100, max_depth=7, random_state=0)\n",
    "\n",
    "models = [model_1, model_2, model_3, model_4, model_5]"
   ]
  },
  {
   "cell_type": "markdown",
   "id": "1cb38c7d",
   "metadata": {
    "papermill": {
     "duration": 0.007196,
     "end_time": "2023-06-28T10:28:07.015435",
     "exception": false,
     "start_time": "2023-06-28T10:28:07.008239",
     "status": "completed"
    },
    "tags": []
   },
   "source": [
    "To select the best model out of the five, we define a function `score_model()` below.  This function returns the mean absolute error (MAE) from the validation set.  Recall that the best model will obtain the lowest MAE.  (_To review **mean absolute error**, look [here](https://www.kaggle.com/dansbecker/model-validation).)_\n",
    "\n",
    "Run the code cell without changes."
   ]
  },
  {
   "cell_type": "code",
   "execution_count": 5,
   "id": "3715c3f3",
   "metadata": {
    "execution": {
     "iopub.execute_input": "2023-06-28T10:28:07.031592Z",
     "iopub.status.busy": "2023-06-28T10:28:07.031212Z",
     "iopub.status.idle": "2023-06-28T10:28:12.662043Z",
     "shell.execute_reply": "2023-06-28T10:28:12.660478Z"
    },
    "papermill": {
     "duration": 5.642809,
     "end_time": "2023-06-28T10:28:12.665451",
     "exception": false,
     "start_time": "2023-06-28T10:28:07.022642",
     "status": "completed"
    },
    "tags": []
   },
   "outputs": [
    {
     "name": "stdout",
     "output_type": "stream",
     "text": [
      "Model 1 MAE: 24015\n",
      "Model 2 MAE: 23740\n",
      "Model 3 MAE: 23528\n",
      "Model 4 MAE: 23996\n",
      "Model 5 MAE: 23706\n"
     ]
    }
   ],
   "source": [
    "from sklearn.metrics import mean_absolute_error\n",
    "\n",
    "# Function for comparing different models\n",
    "def score_model(model, X_t=X_train, X_v=X_valid, y_t=y_train, y_v=y_valid):\n",
    "    model.fit(X_t, y_t)\n",
    "    preds = model.predict(X_v)\n",
    "    return mean_absolute_error(y_v, preds)\n",
    "\n",
    "for i in range(0, len(models)):\n",
    "    mae = score_model(models[i])\n",
    "    print(\"Model %d MAE: %d\" % (i+1, mae))"
   ]
  },
  {
   "cell_type": "markdown",
   "id": "f70e0e7f",
   "metadata": {
    "papermill": {
     "duration": 0.007322,
     "end_time": "2023-06-28T10:28:12.681098",
     "exception": false,
     "start_time": "2023-06-28T10:28:12.673776",
     "status": "completed"
    },
    "tags": []
   },
   "source": [
    "# Step 1: Evaluate several models\n",
    "\n",
    "Use the above results to fill in the line below.  Which model is the best model?  Your answer should be one of `model_1`, `model_2`, `model_3`, `model_4`, or `model_5`."
   ]
  },
  {
   "cell_type": "code",
   "execution_count": 6,
   "id": "5b4f589d",
   "metadata": {
    "execution": {
     "iopub.execute_input": "2023-06-28T10:28:12.698881Z",
     "iopub.status.busy": "2023-06-28T10:28:12.698404Z",
     "iopub.status.idle": "2023-06-28T10:28:12.709415Z",
     "shell.execute_reply": "2023-06-28T10:28:12.708213Z"
    },
    "papermill": {
     "duration": 0.023677,
     "end_time": "2023-06-28T10:28:12.712494",
     "exception": false,
     "start_time": "2023-06-28T10:28:12.688817",
     "status": "completed"
    },
    "tags": []
   },
   "outputs": [
    {
     "data": {
      "application/javascript": [
       "parent.postMessage({\"jupyterEvent\": \"custom.exercise_interaction\", \"data\": {\"outcomeType\": 1, \"valueTowardsCompletion\": 0.5, \"interactionType\": 1, \"questionType\": 2, \"questionId\": \"1_BestModel\", \"learnToolsVersion\": \"0.3.4\", \"failureMessage\": \"\", \"exceptionClass\": \"\", \"trace\": \"\"}}, \"*\")"
      ],
      "text/plain": [
       "<IPython.core.display.Javascript object>"
      ]
     },
     "metadata": {},
     "output_type": "display_data"
    },
    {
     "data": {
      "text/markdown": [
       "<span style=\"color:#33cc33\">Correct</span>"
      ],
      "text/plain": [
       "Correct"
      ]
     },
     "metadata": {},
     "output_type": "display_data"
    }
   ],
   "source": [
    "# Fill in the best model\n",
    "best_model = model_3\n",
    "\n",
    "# Check your answer\n",
    "step_1.check()"
   ]
  },
  {
   "cell_type": "code",
   "execution_count": 7,
   "id": "35a75d6c",
   "metadata": {
    "execution": {
     "iopub.execute_input": "2023-06-28T10:28:12.730506Z",
     "iopub.status.busy": "2023-06-28T10:28:12.730089Z",
     "iopub.status.idle": "2023-06-28T10:28:12.735396Z",
     "shell.execute_reply": "2023-06-28T10:28:12.734142Z"
    },
    "papermill": {
     "duration": 0.016993,
     "end_time": "2023-06-28T10:28:12.737867",
     "exception": false,
     "start_time": "2023-06-28T10:28:12.720874",
     "status": "completed"
    },
    "tags": []
   },
   "outputs": [],
   "source": [
    "# Lines below will give you a hint or solution code\n",
    "#step_1.hint()\n",
    "#step_1.solution()"
   ]
  },
  {
   "cell_type": "markdown",
   "id": "b70a7cdc",
   "metadata": {
    "papermill": {
     "duration": 0.007918,
     "end_time": "2023-06-28T10:28:12.753897",
     "exception": false,
     "start_time": "2023-06-28T10:28:12.745979",
     "status": "completed"
    },
    "tags": []
   },
   "source": [
    "# Step 2: Generate test predictions\n",
    "\n",
    "Great. You know how to evaluate what makes an accurate model. Now it's time to go through the modeling process and make predictions. In the line below, create a Random Forest model with the variable name `my_model`."
   ]
  },
  {
   "cell_type": "code",
   "execution_count": 8,
   "id": "d6929730",
   "metadata": {
    "execution": {
     "iopub.execute_input": "2023-06-28T10:28:12.772573Z",
     "iopub.status.busy": "2023-06-28T10:28:12.772180Z",
     "iopub.status.idle": "2023-06-28T10:28:12.784408Z",
     "shell.execute_reply": "2023-06-28T10:28:12.782886Z"
    },
    "papermill": {
     "duration": 0.025841,
     "end_time": "2023-06-28T10:28:12.787565",
     "exception": false,
     "start_time": "2023-06-28T10:28:12.761724",
     "status": "completed"
    },
    "tags": []
   },
   "outputs": [
    {
     "data": {
      "application/javascript": [
       "parent.postMessage({\"jupyterEvent\": \"custom.exercise_interaction\", \"data\": {\"outcomeType\": 1, \"valueTowardsCompletion\": 0.5, \"interactionType\": 1, \"questionType\": 2, \"questionId\": \"2_Predictions\", \"learnToolsVersion\": \"0.3.4\", \"failureMessage\": \"\", \"exceptionClass\": \"\", \"trace\": \"\"}}, \"*\")"
      ],
      "text/plain": [
       "<IPython.core.display.Javascript object>"
      ]
     },
     "metadata": {},
     "output_type": "display_data"
    },
    {
     "data": {
      "text/markdown": [
       "<span style=\"color:#33cc33\">Correct</span>"
      ],
      "text/plain": [
       "Correct"
      ]
     },
     "metadata": {},
     "output_type": "display_data"
    }
   ],
   "source": [
    "# Define a model\n",
    "my_model = best_model # Your code here\n",
    "\n",
    "# Check your answer\n",
    "step_2.check()"
   ]
  },
  {
   "cell_type": "code",
   "execution_count": 9,
   "id": "44fc4510",
   "metadata": {
    "execution": {
     "iopub.execute_input": "2023-06-28T10:28:12.808534Z",
     "iopub.status.busy": "2023-06-28T10:28:12.808110Z",
     "iopub.status.idle": "2023-06-28T10:28:12.814903Z",
     "shell.execute_reply": "2023-06-28T10:28:12.812917Z"
    },
    "papermill": {
     "duration": 0.021488,
     "end_time": "2023-06-28T10:28:12.817987",
     "exception": false,
     "start_time": "2023-06-28T10:28:12.796499",
     "status": "completed"
    },
    "tags": []
   },
   "outputs": [],
   "source": [
    "# Lines below will give you a hint or solution code\n",
    "#step_2.hint()\n",
    "#step_2.solution()"
   ]
  },
  {
   "cell_type": "markdown",
   "id": "65f77ff5",
   "metadata": {
    "papermill": {
     "duration": 0.008314,
     "end_time": "2023-06-28T10:28:12.834777",
     "exception": false,
     "start_time": "2023-06-28T10:28:12.826463",
     "status": "completed"
    },
    "tags": []
   },
   "source": [
    "Run the next code cell without changes.  The code fits the model to the training and validation data, and then generates test predictions that are saved to a CSV file.  These test predictions can be submitted directly to the competition!"
   ]
  },
  {
   "cell_type": "code",
   "execution_count": 10,
   "id": "2c25ab3b",
   "metadata": {
    "execution": {
     "iopub.execute_input": "2023-06-28T10:28:12.854340Z",
     "iopub.status.busy": "2023-06-28T10:28:12.853908Z",
     "iopub.status.idle": "2023-06-28T10:28:17.337720Z",
     "shell.execute_reply": "2023-06-28T10:28:17.336694Z"
    },
    "papermill": {
     "duration": 4.49731,
     "end_time": "2023-06-28T10:28:17.340716",
     "exception": false,
     "start_time": "2023-06-28T10:28:12.843406",
     "status": "completed"
    },
    "tags": []
   },
   "outputs": [],
   "source": [
    "# Fit the model to the training data\n",
    "my_model.fit(X, y)\n",
    "\n",
    "# Generate test predictions\n",
    "preds_test = my_model.predict(X_test)\n",
    "\n",
    "# Save predictions in format used for competition scoring\n",
    "output = pd.DataFrame({'Id': X_test.index,\n",
    "                       'SalePrice': preds_test})\n",
    "output.to_csv('submission.csv', index=False)"
   ]
  },
  {
   "cell_type": "markdown",
   "id": "1d314cad",
   "metadata": {
    "papermill": {
     "duration": 0.008105,
     "end_time": "2023-06-28T10:28:17.357165",
     "exception": false,
     "start_time": "2023-06-28T10:28:17.349060",
     "status": "completed"
    },
    "tags": []
   },
   "source": [
    "# Submit your results\n",
    "\n",
    "Once you have successfully completed Step 2, you're ready to submit your results to the leaderboard!  First, you'll need to join the competition if you haven't already.  So open a new window by clicking on [this link](https://www.kaggle.com/c/home-data-for-ml-course).  Then click on the **Join Competition** button.  _(If you see a \"Submit Predictions\" button instead of a \"Join Competition\" button, you have already joined the competition, and don't need to do so again.)_\n",
    "\n",
    "Next, follow the instructions below:\n",
    "1. Begin by clicking on the **Save Version** button in the top right corner of the window.  This will generate a pop-up window.  \n",
    "2. Ensure that the **Save and Run All** option is selected, and then click on the **Save** button.\n",
    "3. This generates a window in the bottom left corner of the notebook.  After it has finished running, click on the number to the right of the **Save Version** button.  This pulls up a list of versions on the right of the screen.  Click on the ellipsis **(...)** to the right of the most recent version, and select **Open in Viewer**.  This brings you into view mode of the same page. You will need to scroll down to get back to these instructions.\n",
    "4. Click on the **Data** tab near the top of the screen.  Then, click on the file you would like to submit, and click on the **Submit** button to submit your results to the leaderboard.\n",
    "\n",
    "You have now successfully submitted to the competition!\n",
    "\n",
    "If you want to keep working to improve your performance, select the **Edit** button in the top right of the screen. Then you can change your code and repeat the process. There's a lot of room to improve, and you will climb up the leaderboard as you work.\n"
   ]
  },
  {
   "cell_type": "markdown",
   "id": "eee50654",
   "metadata": {
    "papermill": {
     "duration": 0.009248,
     "end_time": "2023-06-28T10:28:17.375275",
     "exception": false,
     "start_time": "2023-06-28T10:28:17.366027",
     "status": "completed"
    },
    "tags": []
   },
   "source": [
    "# Keep going\n",
    "\n",
    "You've made your first model. But how can you quickly make it better?\n",
    "\n",
    "Learn how to improve your competition results by incorporating columns with **[missing values](https://www.kaggle.com/alexisbcook/missing-values)**."
   ]
  },
  {
   "cell_type": "markdown",
   "id": "b4247653",
   "metadata": {
    "papermill": {
     "duration": 0.007955,
     "end_time": "2023-06-28T10:28:17.391786",
     "exception": false,
     "start_time": "2023-06-28T10:28:17.383831",
     "status": "completed"
    },
    "tags": []
   },
   "source": [
    "---\n",
    "\n",
    "\n",
    "\n",
    "\n",
    "*Have questions or comments? Visit the [course discussion forum](https://www.kaggle.com/learn/intermediate-machine-learning/discussion) to chat with other learners.*"
   ]
  }
 ],
 "metadata": {
  "kernelspec": {
   "display_name": "Python 3",
   "language": "python",
   "name": "python3"
  },
  "language_info": {
   "codemirror_mode": {
    "name": "ipython",
    "version": 3
   },
   "file_extension": ".py",
   "mimetype": "text/x-python",
   "name": "python",
   "nbconvert_exporter": "python",
   "pygments_lexer": "ipython3",
   "version": "3.10.10"
  },
  "papermill": {
   "default_parameters": {},
   "duration": 28.028572,
   "end_time": "2023-06-28T10:28:18.523786",
   "environment_variables": {},
   "exception": null,
   "input_path": "__notebook__.ipynb",
   "output_path": "__notebook__.ipynb",
   "parameters": {},
   "start_time": "2023-06-28T10:27:50.495214",
   "version": "2.4.0"
  }
 },
 "nbformat": 4,
 "nbformat_minor": 5
}
